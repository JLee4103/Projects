{
 "cells": [
  {
   "cell_type": "code",
   "execution_count": 38,
   "id": "cee1186a",
   "metadata": {},
   "outputs": [],
   "source": [
    "from selenium import webdriver\n",
    "from selenium.webdriver.chrome.options import Options\n",
    "from selenium.webdriver.common.by import By\n",
    "from selenium.webdriver.support.ui import WebDriverWait\n",
    "from selenium.webdriver.support import expected_conditions as EC\n",
    "import pandas as pd\n"
   ]
  },
  {
   "cell_type": "code",
   "execution_count": null,
   "id": "66b54381",
   "metadata": {},
   "outputs": [],
   "source": [
    "def create_webdriver():\n",
    "    opts = Options()\n",
    "    # opts.add_argument(\"--headless=new\")  # enable for no-GUI scraping\n",
    "    # opts.add_experimental_option(\"detach\", True)  # keep window open after script ends\n",
    "    return webdriver.Chrome(options=opts)\n",
    "\n",
    "\n",
    "WEBSITE = \"https://books.toscrape.com/\"\n",
    "\n",
    "driver = create_webdriver()\n",
    "driver.get(WEBSITE)\n"
   ]
  },
  {
   "cell_type": "code",
   "execution_count": null,
   "id": "aeb517fa",
   "metadata": {},
   "outputs": [],
   "source": [
    "# Wait until the project links are present\n",
    "wait = WebDriverWait(driver, 10)\n",
    "anchors = wait.until(\n",
    "    EC.presence_of_all_elements_located((By.CSS_SELECTOR, \"article.product_pod\"))\n",
    ")\n",
    "\n",
    "titles = []\n",
    "price = []\n",
    "stock = []\n",
    "for a in anchors:\n",
    "    name = a.text.strip()\n",
    "    name = name.splitlines()\n",
    "    titles.append(name[0])\n",
    "    price.append(name[1])\n",
    "    stock.append(name[2])\n",
    "\n",
    "\n",
    "\n",
    "\n",
    "driver.quit()\n"
   ]
  },
  {
   "cell_type": "code",
   "execution_count": 41,
   "id": "5a61db6a",
   "metadata": {},
   "outputs": [
    {
     "name": "stdout",
     "output_type": "stream",
     "text": [
      "                                   titles   price     stock\n",
      "0                      A Light in the ...  £51.77  In stock\n",
      "1                      Tipping the Velvet  £53.74  In stock\n",
      "2                              Soumission  £50.10  In stock\n",
      "3                           Sharp Objects  £47.82  In stock\n",
      "4            Sapiens: A Brief History ...  £54.23  In stock\n",
      "5                         The Requiem Red  £22.65  In stock\n",
      "6            The Dirty Little Secrets ...  £33.34  In stock\n",
      "7                 The Coming Woman: A ...  £17.93  In stock\n",
      "8                     The Boys in the ...  £22.60  In stock\n",
      "9                         The Black Maria  £52.15  In stock\n",
      "10  Starving Hearts (Triangular Trade ...  £13.99  In stock\n",
      "11                  Shakespeare's Sonnets  £20.66  In stock\n",
      "12                            Set Me Free  £17.46  In stock\n",
      "13    Scott Pilgrim's Precious Little ...  £52.29  In stock\n",
      "14                      Rip it Up and ...  £35.02  In stock\n",
      "15                  Our Band Could Be ...  £57.25  In stock\n",
      "16                                   Olio  £23.88  In stock\n",
      "17        Mesaerion: The Best Science ...  £37.59  In stock\n",
      "18           Libertarianism for Beginners  £51.33  In stock\n",
      "19                It's Only the Himalayas  £45.17  In stock\n"
     ]
    }
   ],
   "source": [
    "df = pd.DataFrame({'titles': titles, 'price': price, 'stock': stock})\n",
    "print(df)"
   ]
  },
  {
   "cell_type": "code",
   "execution_count": null,
   "id": "166bbf48",
   "metadata": {},
   "outputs": [],
   "source": []
  }
 ],
 "metadata": {
  "kernelspec": {
   "display_name": "webscraping",
   "language": "python",
   "name": "python3"
  },
  "language_info": {
   "codemirror_mode": {
    "name": "ipython",
    "version": 3
   },
   "file_extension": ".py",
   "mimetype": "text/x-python",
   "name": "python",
   "nbconvert_exporter": "python",
   "pygments_lexer": "ipython3",
   "version": "3.12.2"
  }
 },
 "nbformat": 4,
 "nbformat_minor": 5
}
