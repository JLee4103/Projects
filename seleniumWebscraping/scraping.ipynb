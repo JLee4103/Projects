{
 "cells": [
  {
   "cell_type": "code",
   "execution_count": 6,
   "id": "dea8d465",
   "metadata": {},
   "outputs": [],
   "source": [
    "from selenium import webdriver\n",
    "from selenium.webdriver.chrome.options import Options\n",
    "from selenium.webdriver.common.by import By\n",
    "from selenium.webdriver.support.ui import WebDriverWait\n",
    "from selenium.webdriver.support import expected_conditions as EC\n",
    "import pandas as pd\n"
   ]
  },
  {
   "cell_type": "code",
   "execution_count": null,
   "id": "e7da47ce",
   "metadata": {},
   "outputs": [],
   "source": [
    "def create_webdriver():\n",
    "    opts = Options()\n",
    "    # opts.add_argument(\"--headless=new\")  # enable for no-GUI scraping\n",
    "    # opts.add_experimental_option(\"detach\", True)  # keep window open after script ends\n",
    "    return webdriver.Chrome(options=opts)\n",
    "\n",
    "driver = create_webdriver()\n",
    "driver.get(\"https://github.com/collections/machine-learning\")\n",
    "\n",
    "# Wait until the project links are present\n",
    "wait = WebDriverWait(driver, 10)\n",
    "anchors = wait.until(\n",
    "    EC.presence_of_all_elements_located((By.CSS_SELECTOR, \"h1.h3.lh-condensed > a\"))\n",
    ")\n",
    "\n",
    "project_list = {}\n",
    "for a in anchors:\n",
    "    name = a.text.strip()\n",
    "    href = a.get_attribute(\"href\")\n",
    "    if name and href:\n",
    "        project_list[name] = href\n",
    "\n",
    "\n",
    "\n",
    "driver.quit()\n"
   ]
  },
  {
   "cell_type": "code",
   "execution_count": 13,
   "id": "3d792186",
   "metadata": {},
   "outputs": [
    {
     "name": "stdout",
     "output_type": "stream",
     "text": [
      "                                                                                                 0\n",
      "apache / spark                                                     https://github.com/apache/spark\n",
      "apache / hadoop                                                   https://github.com/apache/hadoop\n",
      "jbhuang0604 / awesome-computer-vision            https://github.com/jbhuang0604/awesome-compute...\n",
      "GSA / data                                                             https://github.com/GSA/data\n",
      "GoogleTrends / data                                           https://github.com/GoogleTrends/data\n",
      "nationalparkservice / data                             https://github.com/nationalparkservice/data\n",
      "fivethirtyeight / data                                     https://github.com/fivethirtyeight/data\n",
      "beamandrew / medical-data                               https://github.com/beamandrew/medical-data\n",
      "src-d / awesome-machine-learning-on-source-code  https://github.com/src-d/awesome-machine-learn...\n",
      "igrigorik / decisiontree                                 https://github.com/igrigorik/decisiontree\n",
      "keon / awesome-nlp                                             https://github.com/keon/awesome-nlp\n",
      "openai / gym                                                         https://github.com/openai/gym\n",
      "aikorea / awesome-rl                                         https://github.com/aikorea/awesome-rl\n",
      "umutisik / Eigentechno                                     https://github.com/umutisik/Eigentechno\n",
      "jpmckinney / tf-idf-similarity                     https://github.com/jpmckinney/tf-idf-similarity\n",
      "scikit-learn-contrib / lightning                 https://github.com/scikit-learn-contrib/lightning\n",
      "gwding / draw_convnet                                       https://github.com/gwding/draw_convnet\n",
      "scikit-learn / scikit-learn                           https://github.com/scikit-learn/scikit-learn\n",
      "tensorflow / tensorflow                                   https://github.com/tensorflow/tensorflow\n",
      "activeloopai / deeplake                                   https://github.com/activeloopai/deeplake\n"
     ]
    }
   ],
   "source": [
    "project_df = pd.DataFrame.from_dict(project_list, orient='index')\n",
    "print(project_df)"
   ]
  },
  {
   "cell_type": "markdown",
   "id": "6b366336",
   "metadata": {},
   "source": [
    "## Speeding up webscraping using parallelization"
   ]
  },
  {
   "cell_type": "code",
   "execution_count": null,
   "id": "303b3409",
   "metadata": {},
   "outputs": [],
   "source": []
  }
 ],
 "metadata": {
  "kernelspec": {
   "display_name": "webscraping",
   "language": "python",
   "name": "python3"
  },
  "language_info": {
   "codemirror_mode": {
    "name": "ipython",
    "version": 3
   },
   "file_extension": ".py",
   "mimetype": "text/x-python",
   "name": "python",
   "nbconvert_exporter": "python",
   "pygments_lexer": "ipython3",
   "version": "3.12.2"
  }
 },
 "nbformat": 4,
 "nbformat_minor": 5
}
